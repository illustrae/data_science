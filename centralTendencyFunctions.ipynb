{
 "cells": [
  {
   "cell_type": "code",
   "execution_count": 1,
   "metadata": {},
   "outputs": [],
   "source": [
    "import numpy as np\n",
    "from statistics import mode"
   ]
  },
  {
   "cell_type": "code",
   "execution_count": 2,
   "metadata": {},
   "outputs": [],
   "source": [
    "week_1 = [45, 55, 49, 60, 52, 55, 58]\n",
    "week_2 = [51, 49, 62, 50, 53, 56, 59]\n",
    "week_3 = [60, 60, 61, 62, 57, 59, 58]\n",
    "week_4 = [59, 63, 62, 61, 65, 66, 62]\n"
   ]
  },
  {
   "cell_type": "code",
   "execution_count": 10,
   "metadata": {},
   "outputs": [
    {
     "data": {
      "text/plain": [
       "(54.285714285714285, 53.0, 51)"
      ]
     },
     "execution_count": 10,
     "metadata": {},
     "output_type": "execute_result"
    }
   ],
   "source": [
    "def central_tendency(temperatures, verbose = False):\n",
    "    mean_temp = np.mean(temperatures)\n",
    "    median_temp = np.median(temperatures)\n",
    "    mode_temp = mode(temperatures)\n",
    "\n",
    "    if verbose == True:\n",
    "        print(f\"The mean is {mean_temp}.\\n The median is {median_temp}.\\n The mode is {mode_temp}\")\n",
    "    else:\n",
    "        return mean_temp, median_temp, mode_temp\n",
    "\n",
    "central_tendency(week_2)"
   ]
  }
 ],
 "metadata": {
  "kernelspec": {
   "display_name": "Python 3 (ipykernel)",
   "language": "python",
   "name": "python3"
  },
  "language_info": {
   "codemirror_mode": {
    "name": "ipython",
    "version": 3
   },
   "file_extension": ".py",
   "mimetype": "text/x-python",
   "name": "python",
   "nbconvert_exporter": "python",
   "pygments_lexer": "ipython3",
   "version": "3.11.4"
  },
  "orig_nbformat": 4
 },
 "nbformat": 4,
 "nbformat_minor": 2
}

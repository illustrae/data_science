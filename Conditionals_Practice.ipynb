{
  "nbformat": 4,
  "nbformat_minor": 0,
  "metadata": {
    "colab": {
      "provenance": [],
      "include_colab_link": true
    },
    "kernelspec": {
      "name": "python3",
      "display_name": "Python 3"
    },
    "language_info": {
      "name": "python"
    }
  },
  "cells": [
    {
      "cell_type": "markdown",
      "metadata": {
        "id": "view-in-github",
        "colab_type": "text"
      },
      "source": [
        "<a href=\"https://colab.research.google.com/github/illustrae/data_science/blob/main/Conditionals_Practice.ipynb\" target=\"_parent\"><img src=\"https://colab.research.google.com/assets/colab-badge.svg\" alt=\"Open In Colab\"/></a>"
      ]
    },
    {
      "cell_type": "markdown",
      "source": [
        "# Conditionals in Python\n"
      ],
      "metadata": {
        "id": "0ThdumLVMoVH"
      }
    },
    {
      "cell_type": "markdown",
      "source": [
        "\n",
        "|   Syntax  | Behavior                                                             |                   Example 1            |Example 2|\n",
        "|-----|--------------------------------------------------------------------------------------------|-------------------------------|------------------------------|\n",
        "| ==  | Checks if the value of two operands are equal                                              | `1 == 1` (True)                 | `1 == 2`  (False)              |\n",
        "| !=  | Checks if the value of two operands are not equal                                          | `1 != 1` (False)                | `1 != 2`  (True)               |\n",
        "| >   | Checks if the value of left operand is greater than the value of right operand             | `2 > 1` (True)                  | `1 > 2` (False)                |\n",
        "| <   | Checks if the value of left operand is less than the value of right operand                | `2 < 1 `(False)                 | `1 < 2` (True)                 |\n",
        "| >=  | Checks if the value of left operand is greater than or equal to the value of right operand | `2 >= 2` (True)                 | `1 >= 2` (False)               |\n",
        "| <=  | Checks if the value of left operand is less than or equal to the value of right operand    | `2 <= 2` (True)                 | `1 <= 2` (True)                |\n",
        "| & | Checks that each expression on the left and right are **both** areTrue                            | `(1 <= 2) & (2 >= 3)` (False) | `(1 <= 2) & (2 <= 3)` (True) |\n",
        "| \\|  | Checks if **either** the expression on the left or right is True                               | `(1 >= 2) \\| (2 >= 3)` (False)  | `(1 <= 2) \\| (2 >= 3)` (True)  |\n",
        "| ~ | Reverses the true-false value of the operand                                               | `~ False` (True)              | `~ True` (False)             |\n",
        "\n",
        "\n"
      ],
      "metadata": {
        "id": "1V__E87vk1AY"
      }
    },
    {
      "cell_type": "markdown",
      "source": [
        "# `if` Statements\n",
        "\n",
        "`if`, `else`, and `elif` have 2 parts.  The condition and the action.\n",
        "\n",
        "The condition part comes first and is followed by a `:`\n",
        "\n",
        "\n",
        "For example:\n",
        "`if name == 'Jane Doe':`\n",
        "\n",
        "The action comes next and is indented.\n",
        "\n",
        "For example:\n",
        "\n"
      ],
      "metadata": {
        "id": "VRnZ_3jvQS6v"
      }
    },
    {
      "cell_type": "code",
      "source": [
        "name = 'Jane Doe'\n",
        "\n",
        "if name == 'Jane Doe': # Notice the double == is for comparison\n",
        "\n",
        "  print('Hello, Jane!')"
      ],
      "metadata": {
        "id": "2_ILT24eSegP"
      },
      "execution_count": null,
      "outputs": []
    },
    {
      "cell_type": "markdown",
      "source": [
        "## 💪 Your Turn\n",
        "\n",
        "Use an `if` statement to write code that returns 'Welcome back again!' if `number_of_visits` is greater than 1.\n",
        "\n",
        "When you are done, change the value of `number_of_visits` to make sure your code is working correctly."
      ],
      "metadata": {
        "id": "FOF3PbBPRhlA"
      }
    },
    {
      "cell_type": "code",
      "execution_count": null,
      "metadata": {
        "id": "59msXkFYMayq",
        "colab": {
          "base_uri": "https://localhost:8080/"
        },
        "outputId": "49b0523b-dfb8-4b41-8304-ab9e3d4acb52"
      },
      "outputs": [
        {
          "output_type": "stream",
          "name": "stdout",
          "text": [
            "Welcome back again!\n"
          ]
        }
      ],
      "source": [
        "number_of_visits = 2\n",
        "\n",
        "if number_of_visits > 1:\n",
        "    print(\"Welcome back again!\")"
      ]
    },
    {
      "cell_type": "markdown",
      "source": [
        "# `else` Statements\n",
        "\n",
        "You can combine `else` with your `if` to have an alternate action trigger if the `if` statement evaluates to `False`.  \n",
        "\n",
        "Try changing the value of `temperature` below to see how it changes the output of the code.\n",
        "\n",
        "Notice that we use double quotes around \"Don't forget a jacket!\" because we have an apostrophe (single quote) in Don't.  "
      ],
      "metadata": {
        "id": "EcOPQl4USbT3"
      }
    },
    {
      "cell_type": "code",
      "source": [
        "temperature = 65\n",
        "\n",
        "if temperature > 60:\n",
        "  print('Enjoy the nice weather')\n",
        "else:\n",
        "  print(\"Don't forget a jacket!\")"
      ],
      "metadata": {
        "id": "wIep6opEUOjO"
      },
      "execution_count": null,
      "outputs": []
    },
    {
      "cell_type": "markdown",
      "source": [
        "## 💪 Your Turn\n",
        "\n",
        "Write code that:\n",
        "\n",
        "- Prints 'Don't forget an umbrella' if `raining == True`\n",
        "\n",
        "- and otherwise prints 'Enjoy the nice weather!'\n",
        "\n",
        "Try changing the value of `raining` to test your code\n",
        "\n",
        "Make sure to use double quotes around \"Don't forget an umbrella!\" because we have an apostrophe (single quote) in Don't.  "
      ],
      "metadata": {
        "id": "6TEmtYI7VFug"
      }
    },
    {
      "cell_type": "code",
      "source": [
        "raining = True\n",
        "\n",
        "if raining == True:\n",
        "  print(\"Don't forget an umbrella\")\n",
        "else:\n",
        "  print(\"Enjoy the nice weather!\")\n",
        "# Your Code here"
      ],
      "metadata": {
        "id": "kRsHCRhadpxm",
        "colab": {
          "base_uri": "https://localhost:8080/"
        },
        "outputId": "1dbe60b6-e1d7-4e9e-894d-2cb28d310a21"
      },
      "execution_count": null,
      "outputs": [
        {
          "output_type": "stream",
          "name": "stdout",
          "text": [
            "Don't forget an umbrella\n"
          ]
        }
      ]
    },
    {
      "cell_type": "markdown",
      "source": [
        "# `elif` Statements\n",
        "\n",
        "`elif` is short for else-if.  This lets you have multiple mutually exclusive clauses in your conditional code.  This means only one of the blocks of code will run, unlike if you use multiple if statements.\n",
        "\n",
        "Notice that below, even if it's raining and cold, the code will only print \"Don't forget a jacket\".  \n",
        "\n",
        "- Try changing the values of `raining` and `temperature` to see how the output changes.\n",
        "\n",
        "- Try changing the `elif` statement to an `if` statement and see how the output changes."
      ],
      "metadata": {
        "id": "c_dr3QamUxvB"
      }
    },
    {
      "cell_type": "code",
      "source": [
        "raining = True\n",
        "temperature = 55\n",
        "\n",
        "if temperature < 60:\n",
        "  print(\"Don't forget a Jacket\")\n",
        "elif raining == True:\n",
        "  print(\"Don't forget an umbrella\")\n",
        "else:\n",
        "  print('Enjoy the beautiful weather!')"
      ],
      "metadata": {
        "id": "E4LNTiVxUpmu"
      },
      "execution_count": null,
      "outputs": []
    },
    {
      "cell_type": "markdown",
      "source": [
        "## 💪 Your Turn\n",
        "\n",
        "Write a block of code that uses `elif` to:\n",
        "\n",
        "- prints 'It was a dark and stormy night' if `weather == 'stormy'`\n",
        "- or else if moon = 'full', it prints 'It was a bright night'\n",
        "- of if neither of those are true, prints 'It was a dark night'\n",
        "\n",
        "\n",
        "*Try changing the values for `weather` and `moon` to be certain your code is working as expected.*"
      ],
      "metadata": {
        "id": "UVZjBTcbgGsu"
      }
    },
    {
      "cell_type": "code",
      "source": [
        "weather = 'stormy'\n",
        "moon = 'full'\n",
        "\n",
        "if weather == \"stormy\":\n",
        "  print(\"It was a dark and stormy night\")\n",
        "elif moon == \"full\":\n",
        "  print(\"It was a bright night\")\n",
        "else:\n",
        "  print(\"It was a dark night.\")"
      ],
      "metadata": {
        "id": "meMRswurfghm",
        "colab": {
          "base_uri": "https://localhost:8080/"
        },
        "outputId": "4f8da8b2-b053-467e-9876-fa3ca2df629d"
      },
      "execution_count": null,
      "outputs": [
        {
          "output_type": "stream",
          "name": "stdout",
          "text": [
            "It was a dark and stormy night\n"
          ]
        }
      ]
    },
    {
      "cell_type": "markdown",
      "source": [
        "# Nested Conditional Statements\n",
        "\n",
        "In order to test multiple conditions, we can put conditional statements inside other conditionals.  This is called 'nesting' and is a common way to create more complex behavior in code that depends on many conditions.\n",
        "\n",
        "In order to control the behavior, make careful use of indentation.  Any statements indented under another statement will only trigger if the statement above them evaluates to `True`.  Any `else` statements need to match the same indentation as the `if` statements they belong to.\n",
        "\n",
        "The below code will:\n",
        "\n",
        "Check if the `time == 'night'` and if so will check if `temperature <= 60` and if that also evaluates as `True`, then it will print \"It's cold and dark outside.\"."
      ],
      "metadata": {
        "id": "EnPdxsuvkKF2"
      }
    },
    {
      "cell_type": "code",
      "source": [
        "temperature = 55\n",
        "time = 'night'\n",
        "\n",
        "\n",
        "if time == 'night':\n",
        "  if temperature < 60:\n",
        "    print(\"It's cold and dark outside.\")"
      ],
      "metadata": {
        "colab": {
          "base_uri": "https://localhost:8080/"
        },
        "id": "xdEmVk-zklTl",
        "outputId": "8568ab48-3f1a-4371-8d57-4fad34f00b55"
      },
      "execution_count": null,
      "outputs": [
        {
          "output_type": "stream",
          "name": "stdout",
          "text": [
            "It's cold and dark outside.\n"
          ]
        }
      ]
    },
    {
      "cell_type": "markdown",
      "source": [
        "We can make the behavior even more complex by adding `else` statements.  Remember that an `else` statement's indentation must match the `if` statement is refers to.  \n",
        "\n",
        "Try changing `time` and `weather` to see how the behavior of the code changes.  Try to match up the `if` and `else` statements in the code to understand why."
      ],
      "metadata": {
        "id": "0hQJV0FQoYNs"
      }
    },
    {
      "cell_type": "code",
      "source": [
        "time = 'night'\n",
        "weather = 'stormy'\n",
        "\n",
        "\n",
        "if time == 'night':\n",
        "\n",
        "  if weather == 'stormy':\n",
        "    print(\"Its a stormy night. You'll want a flashlight and umbrella.\")\n",
        "\n",
        "  else:\n",
        "    print(\"It's a beautiful night. You'll want your flashlight.\")\n",
        "\n",
        "\n",
        "elif time == 'day':\n",
        "\n",
        "  if weather == 'stormy':\n",
        "    print(\"Its a stormy day. You'll want your umbrella.\")\n",
        "\n",
        "  else:\n",
        "    print(\"Its a nice & sunnay day. You'll want sunglasses and sunscreen.\")\n",
        "\n",
        "else:\n",
        "  print('I can only provide recommendations during the day or at night.')"
      ],
      "metadata": {
        "colab": {
          "base_uri": "https://localhost:8080/"
        },
        "id": "TLmWhAXhl8jm",
        "outputId": "8a4dea01-a108-4a10-92de-c9517c8de292"
      },
      "execution_count": null,
      "outputs": [
        {
          "output_type": "stream",
          "name": "stdout",
          "text": [
            "Its a stormy night. You'll want a flashlight and umbrella.\n"
          ]
        }
      ]
    },
    {
      "cell_type": "markdown",
      "source": [
        "## 💪 Your Turn\n",
        "\n",
        "Create a block of code with nested conditions to produce one of 4 outcomes:\n",
        "\n",
        "- It is cold and rainy.\n",
        "\n",
        "- It is cold and sunny.\n",
        "\n",
        "- It is warm and rainy.\n",
        "\n",
        "- It is warm and sunny.\n",
        "\n",
        "Your code should output descriptions of a day that is:\n",
        "* warmer or cooler than 60 (fahrenheit, which is about 15.5 celsius)\n",
        "* rainy or sunny\n",
        "\n"
      ],
      "metadata": {
        "id": "ODT7qWj8ohX5"
      }
    },
    {
      "cell_type": "code",
      "source": [
        "temperature = 80\n",
        "weather = 'rainy'\n",
        "\n",
        "if temperature < 60:\n",
        "  if weather == \"rainy\":\n",
        "    print(\"It is cold and rainy.\")\n",
        "  else:\n",
        "    print(\"It is cold and sunny.\")\n",
        "\n",
        "if temperature > 60:\n",
        "  if weather == \"rainy\":\n",
        "    print(\"It is warm and rainy.\")\n",
        "  else:\n",
        "    print(\"It is warm and sunny.\")\n"
      ],
      "metadata": {
        "id": "vQghSCtCoLWH",
        "colab": {
          "base_uri": "https://localhost:8080/"
        },
        "outputId": "341d416a-7d8e-4e72-df86-c6f696ece57f"
      },
      "execution_count": null,
      "outputs": [
        {
          "output_type": "stream",
          "name": "stdout",
          "text": [
            "It is warm and rainy.\n"
          ]
        }
      ]
    },
    {
      "cell_type": "markdown",
      "source": [
        "# and (`&`)/ or (`|`)\n",
        "\n"
      ],
      "metadata": {
        "id": "EXAItuEupmxA"
      }
    },
    {
      "cell_type": "markdown",
      "source": [
        "You can combine or alter conditions using the `&` and `|` operators.\n",
        "\n",
        "## and (&)\n",
        "* A conditional statement with an `&` between two other conditional statements ONLY returns `True` if **BOTH** conditions are`True`.  \n",
        "\n",
        "\n",
        "Run the code below to see an example."
      ],
      "metadata": {
        "id": "xQqOd0NsdKA0"
      }
    },
    {
      "cell_type": "markdown",
      "source": [
        "Try changing the value of `a` below to see how the resulting output changes."
      ],
      "metadata": {
        "id": "JKsIAoX9e6aO"
      }
    },
    {
      "cell_type": "code",
      "source": [
        "# Declare a\n",
        "a = 7\n",
        "\n",
        "# Test if a is more than 2 and less than 5\n",
        "if (a > 2) & (a < 5):\n",
        "  print('a is between 2 and 5')\n",
        "else:\n",
        "  print('a is not between 2 and 5')"
      ],
      "metadata": {
        "colab": {
          "base_uri": "https://localhost:8080/"
        },
        "id": "df16hDdZedJc",
        "outputId": "f3cfc9ea-2636-45b2-90c1-13cfc2b4a024"
      },
      "execution_count": null,
      "outputs": [
        {
          "output_type": "stream",
          "name": "stdout",
          "text": [
            "a is not between 2 and 5\n"
          ]
        }
      ]
    },
    {
      "cell_type": "markdown",
      "source": [
        "## 💪 Your Turn\n",
        "\n",
        "Write a block of code that tests whether a `c` is greater than 100 and less than 1000.\n",
        "\n",
        "Try changing the value of `c` to be\n",
        "* 50 (to test a value less than 100),\n",
        "* 1001 (to test a value greater than 1000)\n",
        "\n",
        "to ensure your code is working correctly."
      ],
      "metadata": {
        "id": "eMpA1Td6ginU"
      }
    },
    {
      "cell_type": "code",
      "source": [
        "c = 999\n",
        "\n",
        "if (c > 100) & (c < 1000):\n",
        "  print(\"c is between 100 and 1000\")\n",
        "else:\n",
        "  print(\"c is not between 100 and 1000\")"
      ],
      "metadata": {
        "id": "vaAKdD2gpJzH",
        "colab": {
          "base_uri": "https://localhost:8080/"
        },
        "outputId": "4cd05de8-0574-4094-e7a2-631fef86f51d"
      },
      "execution_count": null,
      "outputs": [
        {
          "output_type": "stream",
          "name": "stdout",
          "text": [
            "c is between 100 and 1000\n"
          ]
        }
      ]
    },
    {
      "cell_type": "markdown",
      "source": [
        "\n",
        "## or (`|`)\n",
        "* A conditional statement with an `|` between two other conditional statements returns `True` if **EITHER** of the conditions are `True`.  It only returns `False` if both conditions are 'False'\n"
      ],
      "metadata": {
        "id": "1NXOOxETeLet"
      }
    },
    {
      "cell_type": "markdown",
      "source": [
        "Try changing the value of `b` to see how the output changes."
      ],
      "metadata": {
        "id": "m_bVRS2xfRDj"
      }
    },
    {
      "cell_type": "code",
      "source": [
        "# Declare b\n",
        "b = 7\n",
        "\n",
        "# Test if be is less than or equal to 2 or more than or equal to 5\n",
        "if (b <= 2) | (b >= 5):\n",
        "  print('b is not between 2 and 5')\n",
        "else:\n",
        "  print('be is between 2 and 5')"
      ],
      "metadata": {
        "colab": {
          "base_uri": "https://localhost:8080/"
        },
        "id": "J6vwTd0wfRfE",
        "outputId": "cf98bfdd-ae95-4b8a-fb3c-4e2a8364b814"
      },
      "execution_count": null,
      "outputs": [
        {
          "output_type": "stream",
          "name": "stdout",
          "text": [
            "b is not between 2 and 5\n"
          ]
        }
      ]
    },
    {
      "cell_type": "markdown",
      "source": [
        "## 💪 Your Turn\n",
        "\n",
        "Write a block of code that tests whether `d` is greater than 1000 or exactly equal to 100.\n",
        "\n",
        "Try changing the value of `d` to be\n",
        "* 100 (to test the d equals 100)\n",
        "* 5000 (to test d greater than 1000)\n",
        "\n",
        "to ensure your code is working correctly."
      ],
      "metadata": {
        "id": "5URjXuyQptx-"
      }
    },
    {
      "cell_type": "code",
      "source": [
        "d = 1000\n",
        "if (d > 1000) | (d == 100):\n",
        "  print(\"Is greater than or equal to 100\")\n",
        "else:\n",
        "  print(\"d is not greater than 1000 or equal to 100\")"
      ],
      "metadata": {
        "id": "Gwf4rG8k7Wj2",
        "colab": {
          "base_uri": "https://localhost:8080/"
        },
        "outputId": "9cc2c580-f0c7-4afe-e5cf-f409d9385f72"
      },
      "execution_count": null,
      "outputs": [
        {
          "output_type": "stream",
          "name": "stdout",
          "text": [
            "d is not greater than 1000 or equal to 100\n"
          ]
        }
      ]
    },
    {
      "cell_type": "markdown",
      "source": [
        "# Summary\n",
        "\n",
        "Condtional statements using a variety of conditional operators will return `True` or `False` boolean objects.  Python programmers can use `if`, `elif` and `else` to change the behavior of their code depending on the truth value of these conditional statements.  `and`/ `or`keywords can be used to modify and combine conditional statements to create even more complex behavior in code."
      ],
      "metadata": {
        "id": "OvlyO6L-q3Zw"
      }
    }
  ]
}
{
  "nbformat": 4,
  "nbformat_minor": 0,
  "metadata": {
    "colab": {
      "provenance": [],
      "toc_visible": true,
      "include_colab_link": true
    },
    "kernelspec": {
      "name": "python3",
      "display_name": "Python 3"
    },
    "language_info": {
      "name": "python"
    }
  },
  "cells": [
    {
      "cell_type": "markdown",
      "metadata": {
        "id": "view-in-github",
        "colab_type": "text"
      },
      "source": [
        "<a href=\"https://colab.research.google.com/github/illustrae/data_science/blob/main/Index_slicing.ipynb\" target=\"_parent\"><img src=\"https://colab.research.google.com/assets/colab-badge.svg\" alt=\"Open In Colab\"/></a>"
      ]
    },
    {
      "cell_type": "markdown",
      "source": [
        "# Indexing and Slicing - Dictionaries\n"
      ],
      "metadata": {
        "id": "eyLJH2OFOtxy"
      }
    },
    {
      "cell_type": "markdown",
      "source": [
        "In this notebook you will see examples of indexing dictionaries for  retrieving values, updarting values, and creating a new key:value pair.\n",
        "\n",
        "NOTE: Sets are not indexible because they are not ordered.  Instead, they have special methods to add, remove, or check for the presence of objects."
      ],
      "metadata": {
        "id": "zPAul2iiPAEL"
      }
    },
    {
      "cell_type": "code",
      "source": [
        "testing here"
      ],
      "metadata": {
        "colab": {
          "base_uri": "https://localhost:8080/",
          "height": 131
        },
        "id": "RbtuNKX19E-c",
        "outputId": "c5f37747-4760-41af-9c33-43e8e6c2de81"
      },
      "execution_count": 1,
      "outputs": [
        {
          "output_type": "error",
          "ename": "SyntaxError",
          "evalue": "ignored",
          "traceback": [
            "\u001b[0;36m  File \u001b[0;32m\"<ipython-input-1-05ec397b55f8>\"\u001b[0;36m, line \u001b[0;32m1\u001b[0m\n\u001b[0;31m    testing here\u001b[0m\n\u001b[0m            ^\u001b[0m\n\u001b[0;31mSyntaxError\u001b[0m\u001b[0;31m:\u001b[0m invalid syntax\n"
          ]
        }
      ]
    },
    {
      "cell_type": "markdown",
      "source": [
        "# Indexing\n"
      ],
      "metadata": {
        "id": "vmBZ_iwwSVk5"
      }
    },
    {
      "cell_type": "markdown",
      "source": [
        "\n",
        "## Tracking Coworker's Favorite Colors\n"
      ],
      "metadata": {
        "id": "d8YR6teXyS58"
      }
    },
    {
      "cell_type": "markdown",
      "source": [
        "\n",
        "A group of co-workers realized that they don't know each other very well beyond the day to day tasks of their jobs.\n",
        "\n",
        "To help build team comraderie, they decide to share their favorite colors with everyone.\n",
        "\n",
        "Let's make a dictionary of favorite colors, called `fav_colors` to track this information.  \n",
        "\n",
        "Since we want to be able to use look up a person's favorite color, we will use a dictionary with everyone's names as the keys and their favorite colors as the values.\n",
        "\n",
        "\n",
        "Run the cell below to create the dictionary of favorite colors."
      ],
      "metadata": {
        "id": "Tnp7ObvA12kJ"
      }
    },
    {
      "cell_type": "code",
      "source": [
        "## Run this cell without making changes.\n",
        "\n",
        "# Create the dictionary \n",
        "fav_colors = {'James':'Red',\n",
        "              'Purvi':\"Orange\",\n",
        "              \"Sherlin\":'Purple',\n",
        "              'Josh':'Indigo'}\n",
        "fav_colors"
      ],
      "metadata": {
        "id": "gNEZel1QO0dB",
        "colab": {
          "base_uri": "https://localhost:8080/"
        },
        "outputId": "9dfce21e-f9af-4d3c-fa62-88f5435cc6fd"
      },
      "execution_count": null,
      "outputs": [
        {
          "output_type": "execute_result",
          "data": {
            "text/plain": [
              "{'James': 'Red', 'Purvi': 'Orange', 'Sherlin': 'Purple', 'Josh': 'Indigo'}"
            ]
          },
          "metadata": {},
          "execution_count": 14
        }
      ]
    },
    {
      "cell_type": "markdown",
      "source": [
        "## Adding to Our Dictionary"
      ],
      "metadata": {
        "id": "cXTnJA0s1XWC"
      }
    },
    {
      "cell_type": "markdown",
      "source": [
        "- A new person just the joined the team and needs to be added to our dictionary. We need to add Neerja to our dictionary and her favorite color is Green.\n"
      ],
      "metadata": {
        "id": "a5SZb_at0Mci"
      }
    },
    {
      "cell_type": "code",
      "source": [
        "# Run this cell without making changes\n",
        "\n",
        "# add a new key for \"Neerja\" with the value set to Aqua\n",
        "fav_colors['Neerja'] = 'Green'\n",
        "\n",
        "# display the full dictionary\n",
        "fav_colors"
      ],
      "metadata": {
        "colab": {
          "base_uri": "https://localhost:8080/"
        },
        "id": "A-kV2zq-0MHN",
        "outputId": "79f35ed3-3505-41b5-de82-de15430dee83"
      },
      "execution_count": null,
      "outputs": [
        {
          "output_type": "execute_result",
          "data": {
            "text/plain": [
              "{'James': 'Red',\n",
              " 'Purvi': 'Orange',\n",
              " 'Sherlin': 'Purple',\n",
              " 'Josh': 'Indigo',\n",
              " 'Neerja': 'Green'}"
            ]
          },
          "metadata": {},
          "execution_count": 15
        }
      ]
    },
    {
      "cell_type": "markdown",
      "source": [
        "### 💪 Your Turn"
      ],
      "metadata": {
        "id": "NdndpZEJ1bBc"
      }
    },
    {
      "cell_type": "markdown",
      "source": [
        "- Add your own name and favorite color to the `fav_colors` dictionary."
      ],
      "metadata": {
        "id": "0_pHVXj51cp3"
      }
    },
    {
      "cell_type": "code",
      "source": [
        "# Your code here\n",
        "\n",
        "## Add a new key with your name and set it to your fav color\n",
        "\n",
        "\n",
        "## print or display the updated dictionary\n"
      ],
      "metadata": {
        "id": "YumFcdpp1gtn"
      },
      "execution_count": null,
      "outputs": []
    },
    {
      "cell_type": "markdown",
      "source": [
        "## Updating Our Dictionary."
      ],
      "metadata": {
        "id": "yL7oyAPC5abV"
      }
    },
    {
      "cell_type": "markdown",
      "source": [
        "On second thought, James has had a change of heart and his new favorite color is Blue. Let's change the value for James to Blue and then confirm the value has been updated."
      ],
      "metadata": {
        "id": "Pgx9as4E5bsm"
      }
    },
    {
      "cell_type": "code",
      "source": [
        "# Run this cell without changes\n",
        "\n",
        "# Updating the value for James to \"Blue\"\n",
        "fav_colors['James'] = 'Blue'\n",
        "\n",
        "# Confirm that the value has changed\n",
        "fav_colors['James']"
      ],
      "metadata": {
        "colab": {
          "base_uri": "https://localhost:8080/",
          "height": 35
        },
        "id": "iGtn6aea5jcS",
        "outputId": "25908b92-8b80-472a-99de-ec147cdebd2d"
      },
      "execution_count": null,
      "outputs": [
        {
          "output_type": "execute_result",
          "data": {
            "text/plain": [
              "'Blue'"
            ],
            "application/vnd.google.colaboratory.intrinsic+json": {
              "type": "string"
            }
          },
          "metadata": {},
          "execution_count": 17
        }
      ]
    },
    {
      "cell_type": "markdown",
      "source": [
        "### 💪 Your Turn\n"
      ],
      "metadata": {
        "id": "uZVdZd2453aG"
      }
    },
    {
      "cell_type": "markdown",
      "source": [
        "Purvi has also realized that she no longer likes Orange and that her true favorite color is Green.\n",
        "\n",
        "Update the fav_colors dictionary to change Purvi's value to Green."
      ],
      "metadata": {
        "id": "NDnJ1FMe56tJ"
      }
    },
    {
      "cell_type": "code",
      "source": [
        "# Your code here\n",
        "\n",
        "# Update the value for Purvi to \"Green\"\n",
        "\n",
        "# Confirm that the value has changed\n"
      ],
      "metadata": {
        "id": "Qln3g-Fn6Jgc"
      },
      "execution_count": null,
      "outputs": []
    },
    {
      "cell_type": "markdown",
      "source": [
        "## Tracking Favorite Colors AND Favorite Candy"
      ],
      "metadata": {
        "id": "3jvWg0sv2AMY"
      }
    },
    {
      "cell_type": "markdown",
      "source": [
        "The team realized that only sharing their favorite colors is barely scratching the surface of getting to know each other. \n",
        "\n",
        "The team decides to also share their favorite candies, too.\n",
        "\n",
        "\n",
        "To track both their favorite color AND candy, we *could* make a second dictionary called `fav_candy`, **but** then we wouldn't have our information stored together for each person. \n",
        "\n",
        "The alternative is to make a **nested** dictionary. \n",
        "\n",
        "Let's create a nested dictionary called `fav_items`. In our nested dictionary, we will still have the team members' names as the keys, but instead of a string with their favorite colors as the values, we will store **another** dictionary that contains 2 key:value pairs: \"color\" and \"candy\". "
      ],
      "metadata": {
        "id": "_KX3DUIW2AKA"
      }
    },
    {
      "cell_type": "code",
      "source": [
        "## Run this cell without making changes.\n",
        "\n",
        "# Create the nested dictionary \n",
        "## make a dictionary of fav_items with the names as the key and a dictionary of {color:red,candy:jelly bellies}\n",
        "fav_items = {\"James\": {'color':'Blue', \n",
        "                       'candy':'Jelly Bellies'},\n",
        "             \"Purvi\": {'color':'Green',\n",
        "                       'candy':'Dark Chocolate'},\n",
        "             'Sherlin': {'color':'Purple',\n",
        "                      'candy':\"Peanut M&M's\"},\n",
        "             'Josh': {'color':'Indigo',\n",
        "                      'candy':'Chocolate Covered Potato Chips'},\n",
        "             \"Neerja\":{'color': 'Green',\n",
        "                       'candy': 'Milk Chocolate'}\n",
        "             }\n",
        "\n",
        "# display the full nested dictionary.\n",
        "fav_items"
      ],
      "metadata": {
        "colab": {
          "base_uri": "https://localhost:8080/"
        },
        "id": "4coFD9mP1_iX",
        "outputId": "2430a758-d059-409f-92fc-331d179068cb"
      },
      "execution_count": null,
      "outputs": [
        {
          "output_type": "execute_result",
          "data": {
            "text/plain": [
              "{'James': {'color': 'Blue', 'candy': 'Jelly Bellies'},\n",
              " 'Purvi': {'color': 'Green', 'candy': 'Dark Chocolate'},\n",
              " 'Sherlin': {'color': 'Purple', 'candy': \"Peanut M&M's\"},\n",
              " 'Josh': {'color': 'Indigo', 'candy': 'Chocolate Covered Potato Chips'},\n",
              " 'Neerja': {'color': 'Green', 'candy': 'Milk Chocolate'}}"
            ]
          },
          "metadata": {},
          "execution_count": 19
        }
      ]
    },
    {
      "cell_type": "markdown",
      "source": [
        "- The team realized they didn't offer to include their boss in the activity and found out that their boss, \"Brenda\" likes the color blue and her favoriate candy is Reese. Let's add Brenda to our `fav_items` dictionary.\n",
        "  - Tip: make sure to use double quotes for strings that will contain an apostrophe. "
      ],
      "metadata": {
        "id": "XJGQUeUx2AH6"
      }
    },
    {
      "cell_type": "code",
      "source": [
        "# Run this cell without changes\n",
        "\n",
        "# Adding \"Brenda\" and her favorites to the dictionary\n",
        "fav_items['Brenda'] = {'color':'Blue','candy':\"Reese's Cups\"}\n",
        "\n",
        "# display the updated dictionary\n",
        "fav_items"
      ],
      "metadata": {
        "colab": {
          "base_uri": "https://localhost:8080/"
        },
        "id": "8dpQ-4194OsQ",
        "outputId": "7a955cf7-1e00-4295-9f91-b780142e421d"
      },
      "execution_count": null,
      "outputs": [
        {
          "output_type": "execute_result",
          "data": {
            "text/plain": [
              "{'James': {'color': 'Blue', 'candy': 'Jelly Bellies'},\n",
              " 'Purvi': {'color': 'Green', 'candy': 'Dark Chocolate'},\n",
              " 'Sherlin': {'color': 'Purple', 'candy': \"Peanut M&M's\"},\n",
              " 'Josh': {'color': 'Indigo', 'candy': 'Chocolate Covered Potato Chips'},\n",
              " 'Neerja': {'color': 'Green', 'candy': 'Milk Chocolate'},\n",
              " 'Brenda': {'color': 'Blue', 'candy': \"Reese's Cups\"}}"
            ]
          },
          "metadata": {},
          "execution_count": 20
        }
      ]
    },
    {
      "cell_type": "markdown",
      "source": [
        "### 💪 Your Turn"
      ],
      "metadata": {
        "id": "EGvAhUJC4qd9"
      }
    },
    {
      "cell_type": "markdown",
      "source": [
        "Add your yourself to our new `fav_items` dictionary following the example above. If you don't like candy, go ahead and list your favorite snack or meal instead."
      ],
      "metadata": {
        "id": "SmHv85s74sTh"
      }
    },
    {
      "cell_type": "code",
      "source": [
        "# Your code here\n",
        "\n",
        "## Add a new key with your name your fav items\n",
        "\n",
        "\n",
        "## print or display the updated dictionary\n"
      ],
      "metadata": {
        "id": "OdqvyhGJ46Ls"
      },
      "execution_count": null,
      "outputs": []
    },
    {
      "cell_type": "markdown",
      "source": [
        "## Indexing Nested Dictionaries"
      ],
      "metadata": {
        "id": "YCh3uSGB5Qmc"
      }
    },
    {
      "cell_type": "markdown",
      "source": [
        "Now that we have everyone's favorites saved in our dictionary. Let's answer some questions about specific people and items. Now that we have a nested dictionary, we will need to use 2 sets of square brackets. the first set to slice out the name of the person and another set of square brakcets to slice out their favorite item.\n"
      ],
      "metadata": {
        "id": "D25mtgid6g2N"
      }
    },
    {
      "cell_type": "markdown",
      "source": [
        "\n",
        "#### Example: What is Purvi's favorite candy?"
      ],
      "metadata": {
        "id": "FNrJFd2-6oi_"
      }
    },
    {
      "cell_type": "code",
      "source": [
        "# Run this cell without changes\n",
        "\n",
        "# Slice out Purvi's favorite candy\n",
        "fav_items['Purvi']['candy']"
      ],
      "metadata": {
        "colab": {
          "base_uri": "https://localhost:8080/",
          "height": 35
        },
        "id": "Dh9xzNUL66Kn",
        "outputId": "4372c754-5a1a-4245-8d1f-fcea30207d3c"
      },
      "execution_count": null,
      "outputs": [
        {
          "output_type": "execute_result",
          "data": {
            "text/plain": [
              "'Dark Chocolate'"
            ],
            "application/vnd.google.colaboratory.intrinsic+json": {
              "type": "string"
            }
          },
          "metadata": {},
          "execution_count": 22
        }
      ]
    },
    {
      "cell_type": "markdown",
      "source": [
        "### 💪 Your Turn"
      ],
      "metadata": {
        "id": "EB3rkScV5SuS"
      }
    },
    {
      "cell_type": "markdown",
      "source": [
        "What is Sherlin's favorite color?"
      ],
      "metadata": {
        "id": "6hGC-WIa7LzY"
      }
    },
    {
      "cell_type": "code",
      "source": [
        "# Your code here\n",
        "\n",
        "# Slice out sherlin's favorite color\n"
      ],
      "metadata": {
        "id": "UKzMFiP27J-K"
      },
      "execution_count": null,
      "outputs": []
    },
    {
      "cell_type": "markdown",
      "source": [
        "## Updating a Nested Dictionary\n",
        "\n"
      ],
      "metadata": {
        "id": "AXVEx7Hy8BRi"
      }
    },
    {
      "cell_type": "markdown",
      "source": [
        "James realized his favorite color isn't really red or blue - its Purple. \n",
        "\n",
        "Let's update the value for James' favorite color in our nested dictionary.\n",
        "\n",
        "Just like we needed a set of square brackets for each key we sliced to get to Sherlin's favorite color, we also need to use multiple square brackets to update a nested dictionary value."
      ],
      "metadata": {
        "id": "Z5tJ2tbU8C9N"
      }
    },
    {
      "cell_type": "code",
      "source": [
        "# Run this cell without changes\n",
        "\n",
        "# update james' fav color to Purple\n",
        "fav_items['James'][\"color\"] = \"Purple\"\n",
        "\n",
        "# confirm the value has changed\n",
        "fav_items['James'][\"color\"]"
      ],
      "metadata": {
        "colab": {
          "base_uri": "https://localhost:8080/",
          "height": 35
        },
        "id": "YSue6Ir68ebn",
        "outputId": "ff7e1a47-027f-4dd8-947a-795c542f3c4a"
      },
      "execution_count": null,
      "outputs": [
        {
          "output_type": "execute_result",
          "data": {
            "text/plain": [
              "'Purple'"
            ],
            "application/vnd.google.colaboratory.intrinsic+json": {
              "type": "string"
            }
          },
          "metadata": {},
          "execution_count": 24
        }
      ]
    },
    {
      "cell_type": "markdown",
      "source": [
        "### 💪 Your Turn"
      ],
      "metadata": {
        "id": "HTTYHJWQ8drB"
      }
    },
    {
      "cell_type": "markdown",
      "source": [
        "Neerja realized that she really prefers dark chocolate over milk chocolate. \n",
        "Change Neerja's favorite candy to \"Dark Chocolate.\""
      ],
      "metadata": {
        "id": "ilAaM-Et8rHE"
      }
    },
    {
      "cell_type": "code",
      "source": [
        "# Your code here\n",
        "\n",
        "## Change Neerja's fav candy\n",
        "\n",
        "\n",
        "## confirm the value has changed\n"
      ],
      "metadata": {
        "id": "M0FUjgGu86JB"
      },
      "execution_count": null,
      "outputs": []
    },
    {
      "cell_type": "markdown",
      "source": [
        "# Summary\n",
        "\n",
        "In this assignment you practiced working with Python dictionaries. We reviewed how to create a new dictionary, how to index a dictionarty using keys, and how to insert new key:value pairs into a dictionary.\n",
        "\n",
        "You also learned how to work with a nested dictionary and how we need a new set of square brackets for every key we need to slice out from our nested dictionaries."
      ],
      "metadata": {
        "id": "APirEhWdsrtz"
      }
    }
  ]
}
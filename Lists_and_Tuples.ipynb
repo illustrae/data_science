{
  "nbformat": 4,
  "nbformat_minor": 0,
  "metadata": {
    "colab": {
      "provenance": [],
      "include_colab_link": true
    },
    "kernelspec": {
      "name": "python3",
      "display_name": "Python 3"
    },
    "language_info": {
      "name": "python"
    }
  },
  "cells": [
    {
      "cell_type": "markdown",
      "metadata": {
        "id": "view-in-github",
        "colab_type": "text"
      },
      "source": [
        "<a href=\"https://colab.research.google.com/github/illustrae/data_science/blob/main/Lists_and_Tuples.ipynb\" target=\"_parent\"><img src=\"https://colab.research.google.com/assets/colab-badge.svg\" alt=\"Open In Colab\"/></a>"
      ]
    },
    {
      "cell_type": "markdown",
      "source": [
        "# Lists and Tuples"
      ],
      "metadata": {
        "id": "eyLJH2OFOtxy"
      }
    },
    {
      "cell_type": "markdown",
      "source": [
        "# Lists\n",
        "\n",
        "## Turtle Racing\n",
        "\n",
        "Longville, MN holds turtle races each summer.  Prizes are given out for the fastest and slowest turtles.\n"
      ],
      "metadata": {
        "id": "vmBZ_iwwSVk5"
      }
    },
    {
      "cell_type": "markdown",
      "source": [
        "##1. Create a list\n",
        "Let's make a list of turtles in the order that they crossed the finish line. Remember, lists are surrounded by square brackets [ ]."
      ],
      "metadata": {
        "id": "qDWKi2akmXMC"
      }
    },
    {
      "cell_type": "code",
      "source": [
        "# Make a list of the first turtles to finish\n",
        "# Run this code without making any changes\n",
        "race_finishers = ['Speedy', 'Sparkles', 'Little Foot', 'Spike', 'Greg the Destroyer']"
      ],
      "metadata": {
        "id": "MrOFfEu7fdJ8"
      },
      "execution_count": null,
      "outputs": []
    },
    {
      "cell_type": "code",
      "source": [
        "print(race_finishers)\n"
      ],
      "metadata": {
        "id": "f70T3EFNf89v",
        "outputId": "0ed60527-8f01-4c55-8564-e84a44c7a160",
        "colab": {
          "base_uri": "https://localhost:8080/"
        }
      },
      "execution_count": null,
      "outputs": [
        {
          "output_type": "stream",
          "name": "stdout",
          "text": [
            "['Speedy', 'Sparkles', 'Little Foot', 'Spike', 'Greg the Destroyer']\n"
          ]
        }
      ]
    },
    {
      "cell_type": "markdown",
      "source": [
        "##2. Append an item to a list\n",
        "Finally! The final turtle named Slowpoke just finished so add them to the list using .append()\n"
      ],
      "metadata": {
        "id": "pduxD3-JgE7e"
      }
    },
    {
      "cell_type": "code",
      "source": [
        "race_finishers.append(\"Slowpoke\")\n",
        "print(race_finishers)\n",
        "\n"
      ],
      "metadata": {
        "id": "vWuWd4w_gEE8",
        "outputId": "aa0ff73a-3f21-4263-f2f0-bc9591bbe51c",
        "colab": {
          "base_uri": "https://localhost:8080/"
        }
      },
      "execution_count": null,
      "outputs": [
        {
          "output_type": "stream",
          "name": "stdout",
          "text": [
            "['Speedy', 'Sparkles', 'Little Foot', 'Spike', 'Greg the Destroyer', 'Slowpoke']\n"
          ]
        }
      ]
    },
    {
      "cell_type": "markdown",
      "source": [
        "##3. Use indexing with a list\n",
        "\n",
        "\n",
        "Indices in Python start counting from 0.  In the following cell, use list indexing to print the first place winner of the race.  The owner of that turtle will get a coupon for a free ice cream cone!\n",
        "\n",
        "Remember that you can index into a collection using brackets, like `collection[3]`.  Use this syntax to print the first racer in the `race_finishers` list."
      ],
      "metadata": {
        "id": "fYXNbbgIXK4I"
      }
    },
    {
      "cell_type": "markdown",
      "source": [
        "| Index           |   0    |    1     |     2       |   3   |         4          |    5     |\n",
        "|-----------------|--------|----------|-------------|-------|--------------------|----------|\n",
        "| race_winners =  | Speedy | Sparkles | Little Foot | Spike | Greg the Destroyer | Slowpoke |\n",
        "| Negative Index  |    -6    |    -5     |     -4       |    -3   |       -2          |     -1     |"
      ],
      "metadata": {
        "id": "mYd1qAVYAFV0"
      }
    },
    {
      "cell_type": "code",
      "source": [
        "race_finishers[0]\n"
      ],
      "metadata": {
        "id": "BwbiUhpeW-_m",
        "outputId": "bb90167a-e311-42c4-84f1-5006d2e64fa5",
        "colab": {
          "base_uri": "https://localhost:8080/",
          "height": 35
        }
      },
      "execution_count": null,
      "outputs": [
        {
          "output_type": "execute_result",
          "data": {
            "text/plain": [
              "'Speedy'"
            ],
            "application/vnd.google.colaboratory.intrinsic+json": {
              "type": "string"
            }
          },
          "metadata": {},
          "execution_count": 7
        }
      ]
    },
    {
      "cell_type": "markdown",
      "source": [
        "## 4. Use negative indexing with a list\n",
        "\n",
        "The owner of the slowest turtle will get a coupon for a free chocolate bar!  Remember that negative index numbers count backward from the end of the list. `collection[-3]` would return the 3rd from the last item from a collection.\n",
        "\n",
        "* Use negative indexing to print the last place racer in the `race_finishers` list.  "
      ],
      "metadata": {
        "id": "vKxzHXKgXcwa"
      }
    },
    {
      "cell_type": "code",
      "source": [
        "race_finishers[-1]\n"
      ],
      "metadata": {
        "id": "Q55nDWS-XGI3",
        "outputId": "4eee5b81-0940-429f-bd2f-2fd200f28690",
        "colab": {
          "base_uri": "https://localhost:8080/",
          "height": 35
        }
      },
      "execution_count": null,
      "outputs": [
        {
          "output_type": "execute_result",
          "data": {
            "text/plain": [
              "'Slowpoke'"
            ],
            "application/vnd.google.colaboratory.intrinsic+json": {
              "type": "string"
            }
          },
          "metadata": {},
          "execution_count": 8
        }
      ]
    },
    {
      "cell_type": "markdown",
      "source": [
        "## 5. Edit an item in a list\n",
        "\n",
        "We just found out that we got the name of the second place turtle wrong.  We wrote 'Sparkles' when it's name is actually 'Sparkly'  We can use indexing to change the second value in a list because lists are both ordered and mutable.  Remember the second value is race_finishers[1]"
      ],
      "metadata": {
        "id": "tNXGnzlln5ms"
      }
    },
    {
      "cell_type": "code",
      "source": [
        "race_finishers[1] = \"Sparkly\"\n",
        "\n",
        "\n",
        "print(race_finishers)\n"
      ],
      "metadata": {
        "id": "vJ5pc8yboQXy",
        "outputId": "2bce5627-058d-46fb-aaca-3317905d8f6a",
        "colab": {
          "base_uri": "https://localhost:8080/"
        }
      },
      "execution_count": null,
      "outputs": [
        {
          "output_type": "stream",
          "name": "stdout",
          "text": [
            "['Speedy', 'Sparkly', 'Little Foot', 'Spike', 'Greg the Destroyer', 'Slowpoke']\n"
          ]
        }
      ]
    },
    {
      "cell_type": "markdown",
      "source": [
        "##6. Remove an item from a list\n",
        "Oh no, it turns out Little Foot was disqaulified.  Use .remove() to remove him from the list."
      ],
      "metadata": {
        "id": "9hfl06OahviT"
      }
    },
    {
      "cell_type": "code",
      "source": [
        "race_finishers.remove(\"Little Foot\")\n",
        "\n",
        "\n",
        "# Print the updated list\n",
        "print(race_finishers)"
      ],
      "metadata": {
        "id": "LrXVYgvmhnrg",
        "outputId": "87c900c0-51c9-429e-92f2-c64578f3fc1c",
        "colab": {
          "base_uri": "https://localhost:8080/"
        }
      },
      "execution_count": null,
      "outputs": [
        {
          "output_type": "stream",
          "name": "stdout",
          "text": [
            "['Speedy', 'Sparkly', 'Spike', 'Greg the Destroyer', 'Slowpoke']\n"
          ]
        }
      ]
    },
    {
      "cell_type": "markdown",
      "source": [
        "# Tuples"
      ],
      "metadata": {
        "id": "FRo3qcAlcI4v"
      }
    },
    {
      "cell_type": "markdown",
      "source": [
        "## Costume Shop Resupply\n",
        "\n",
        "A costume shop is ordering merchandise to replenish their stock.  Some items sell out very quickly and others are not as popular.  The shop keep track of how many of each item sells and makes tuple of items in order of most popular to least popular.\n",
        "\n"
      ],
      "metadata": {
        "id": "ltbPs3qRlLdL"
      }
    },
    {
      "cell_type": "markdown",
      "source": [
        "## 7. Create a Tuple\n",
        "\n",
        "Remember tuples are surrounded by parenthesis. ()"
      ],
      "metadata": {
        "id": "OACRkwy7nqOK"
      }
    },
    {
      "cell_type": "code",
      "source": [
        "# Create a tuple of costume merchandise\n",
        "# Run this code cell without making any changes\n",
        "merchandise = ('Fangs', 'Tutus', 'Clown Noses', 'Scrubs', 'Cowboy Hats', 'Face Paint', 'Plastic Swords')"
      ],
      "metadata": {
        "id": "cG5zzDadbxLW"
      },
      "execution_count": null,
      "outputs": []
    },
    {
      "cell_type": "markdown",
      "source": [
        "| Index          |   0   |    1  |     2       |   3    |         4   |    5       | 6              |\n",
        "|----------------|-------|-------|-------------|--------|-------------|------------|----------------|\n",
        "| merchandise =  | Fangs | Tutus | Clown Noses | Scrubs | Cowboy Hats | Face Paint | Plastic Swords |\n",
        "| Negative Index | -7    |   -6  |    -5       | -4     | -3          | -2         | -1             |"
      ],
      "metadata": {
        "id": "pxIvijkBCjtE"
      }
    },
    {
      "cell_type": "markdown",
      "source": [
        "##8. Slicing from the start of a tuple\n",
        "\n",
        "The shop wants to order plenty of their top 3 best sellers to make sure they keep them in stock.\n",
        "\n",
        "Slice into the `merchandise` tuple to return the first 3 elements of the tuple.  Remember:\n",
        "1. If there is no value before the colon the slice will begin at the beginning of the tuple (or list).  For example [0:3] can also be written as [:3]\n",
        "2. A slice **excludes** the index position after the colon."
      ],
      "metadata": {
        "id": "ewWVDhvAnjKs"
      }
    },
    {
      "cell_type": "code",
      "source": [
        "top_3 = merchandise\n",
        "print(top_3[0:3])\n"
      ],
      "metadata": {
        "id": "yiod1kLwnhzc",
        "outputId": "065c8571-2918-4529-e6ce-4774fccab1a5",
        "colab": {
          "base_uri": "https://localhost:8080/"
        }
      },
      "execution_count": null,
      "outputs": [
        {
          "output_type": "stream",
          "name": "stdout",
          "text": [
            "('Fangs', 'Tutus', 'Clown Noses')\n"
          ]
        }
      ]
    },
    {
      "cell_type": "markdown",
      "source": [
        "## 8. Slicing from the end of a tuple\n",
        "\n",
        "The shop wants to discontinue the two least popular items in the list.  \n",
        "\n",
        "* Slice into the `merchandise` tuple and return the last two elements.  Remember:\n",
        "  1. You can use negative indexing to count backward from the end of a collection\n",
        "  2. When you want to slice everything after a certain point in a collection, put the starting point before the colon and don't put anything after the colon."
      ],
      "metadata": {
        "id": "hEE2tRbho7lW"
      }
    },
    {
      "cell_type": "code",
      "source": [
        "last_2 = merchandise\n",
        "\n",
        "print(last_2[0:-2])\n"
      ],
      "metadata": {
        "id": "Eu76Efzgos60",
        "outputId": "824a8f7e-ca92-4fc8-c840-c0667e3f9cdd",
        "colab": {
          "base_uri": "https://localhost:8080/"
        }
      },
      "execution_count": null,
      "outputs": [
        {
          "output_type": "stream",
          "name": "stdout",
          "text": [
            "('Fangs', 'Tutus', 'Clown Noses', 'Scrubs', 'Cowboy Hats')\n"
          ]
        }
      ]
    },
    {
      "cell_type": "markdown",
      "source": [
        "##9. Slicing items from the middle of a tuple\n",
        "\n",
        ". Reminders:\n",
        "\n",
        "1. A slice **includes** the index before the colon.\n",
        "2. A slice **excludes** the index after the colon.\n",
        "3. Python indexing starts at 0, so the second item is at index 1."
      ],
      "metadata": {
        "id": "YdG4i71fqkdL"
      }
    },
    {
      "cell_type": "code",
      "source": [
        "# Slice out the 2nd and 3rd items from the tuple\n",
        "\n",
        "\n",
        "print(merchandise[1:3])\n"
      ],
      "metadata": {
        "id": "AVJUOWndqHJT",
        "outputId": "2564563a-5006-4937-9795-98f885e18639",
        "colab": {
          "base_uri": "https://localhost:8080/"
        }
      },
      "execution_count": null,
      "outputs": [
        {
          "output_type": "stream",
          "name": "stdout",
          "text": [
            "('Tutus', 'Clown Noses')\n"
          ]
        }
      ]
    },
    {
      "cell_type": "markdown",
      "source": [
        "## Reminder: Tuples are immutable\n",
        "\n",
        "Our supplier has changed 'Cowboy Hats' to 'Cowpoke Hats'.  Can we change this in our tuple?\n",
        "\n",
        "NO! Tuples are immutable meaning they cannot be changed or updated.\n"
      ],
      "metadata": {
        "id": "NRs5Kl0JreEz"
      }
    }
  ]
}